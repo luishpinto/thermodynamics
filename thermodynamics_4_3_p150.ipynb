{
  "nbformat": 4,
  "nbformat_minor": 0,
  "metadata": {
    "colab": {
      "name": "thermodynamics-4.3-p150.ipynb",
      "provenance": [],
      "collapsed_sections": [],
      "authorship_tag": "ABX9TyNxrgWf0FwnjO+VymxUHB98",
      "include_colab_link": true
    },
    "kernelspec": {
      "name": "python3",
      "display_name": "Python 3"
    },
    "language_info": {
      "name": "python"
    }
  },
  "cells": [
    {
      "cell_type": "markdown",
      "metadata": {
        "id": "view-in-github",
        "colab_type": "text"
      },
      "source": [
        "<a href=\"https://colab.research.google.com/github/luishpinto/thermodynamics/blob/main/thermodynamics_4_3_p150.ipynb\" target=\"_parent\"><img src=\"https://colab.research.google.com/assets/colab-badge.svg\" alt=\"Open In Colab\"/></a>"
      ]
    },
    {
      "cell_type": "code",
      "execution_count": 1,
      "metadata": {
        "id": "3cK0ptu1obgG",
        "colab": {
          "base_uri": "https://localhost:8080/"
        },
        "outputId": "3f733db5-7f92-40ab-a587-6b5b700fac3b"
      },
      "outputs": [
        {
          "output_type": "stream",
          "name": "stdout",
          "text": [
            "\u001b[?25l\r\u001b[K     |▌                               | 10 kB 20.0 MB/s eta 0:00:01\r\u001b[K     |█                               | 20 kB 14.6 MB/s eta 0:00:01\r\u001b[K     |█▋                              | 30 kB 10.1 MB/s eta 0:00:01\r\u001b[K     |██                              | 40 kB 8.9 MB/s eta 0:00:01\r\u001b[K     |██▋                             | 51 kB 4.7 MB/s eta 0:00:01\r\u001b[K     |███▏                            | 61 kB 5.6 MB/s eta 0:00:01\r\u001b[K     |███▋                            | 71 kB 5.6 MB/s eta 0:00:01\r\u001b[K     |████▏                           | 81 kB 5.5 MB/s eta 0:00:01\r\u001b[K     |████▊                           | 92 kB 6.1 MB/s eta 0:00:01\r\u001b[K     |█████▏                          | 102 kB 5.2 MB/s eta 0:00:01\r\u001b[K     |█████▊                          | 112 kB 5.2 MB/s eta 0:00:01\r\u001b[K     |██████▎                         | 122 kB 5.2 MB/s eta 0:00:01\r\u001b[K     |██████▊                         | 133 kB 5.2 MB/s eta 0:00:01\r\u001b[K     |███████▎                        | 143 kB 5.2 MB/s eta 0:00:01\r\u001b[K     |███████▉                        | 153 kB 5.2 MB/s eta 0:00:01\r\u001b[K     |████████▎                       | 163 kB 5.2 MB/s eta 0:00:01\r\u001b[K     |████████▉                       | 174 kB 5.2 MB/s eta 0:00:01\r\u001b[K     |█████████▍                      | 184 kB 5.2 MB/s eta 0:00:01\r\u001b[K     |█████████▉                      | 194 kB 5.2 MB/s eta 0:00:01\r\u001b[K     |██████████▍                     | 204 kB 5.2 MB/s eta 0:00:01\r\u001b[K     |███████████                     | 215 kB 5.2 MB/s eta 0:00:01\r\u001b[K     |███████████▍                    | 225 kB 5.2 MB/s eta 0:00:01\r\u001b[K     |████████████                    | 235 kB 5.2 MB/s eta 0:00:01\r\u001b[K     |████████████▌                   | 245 kB 5.2 MB/s eta 0:00:01\r\u001b[K     |█████████████                   | 256 kB 5.2 MB/s eta 0:00:01\r\u001b[K     |█████████████▌                  | 266 kB 5.2 MB/s eta 0:00:01\r\u001b[K     |██████████████                  | 276 kB 5.2 MB/s eta 0:00:01\r\u001b[K     |██████████████▋                 | 286 kB 5.2 MB/s eta 0:00:01\r\u001b[K     |███████████████                 | 296 kB 5.2 MB/s eta 0:00:01\r\u001b[K     |███████████████▋                | 307 kB 5.2 MB/s eta 0:00:01\r\u001b[K     |████████████████▏               | 317 kB 5.2 MB/s eta 0:00:01\r\u001b[K     |████████████████▋               | 327 kB 5.2 MB/s eta 0:00:01\r\u001b[K     |█████████████████▏              | 337 kB 5.2 MB/s eta 0:00:01\r\u001b[K     |█████████████████▊              | 348 kB 5.2 MB/s eta 0:00:01\r\u001b[K     |██████████████████▏             | 358 kB 5.2 MB/s eta 0:00:01\r\u001b[K     |██████████████████▊             | 368 kB 5.2 MB/s eta 0:00:01\r\u001b[K     |███████████████████▎            | 378 kB 5.2 MB/s eta 0:00:01\r\u001b[K     |███████████████████▊            | 389 kB 5.2 MB/s eta 0:00:01\r\u001b[K     |████████████████████▎           | 399 kB 5.2 MB/s eta 0:00:01\r\u001b[K     |████████████████████▉           | 409 kB 5.2 MB/s eta 0:00:01\r\u001b[K     |█████████████████████▎          | 419 kB 5.2 MB/s eta 0:00:01\r\u001b[K     |█████████████████████▉          | 430 kB 5.2 MB/s eta 0:00:01\r\u001b[K     |██████████████████████▍         | 440 kB 5.2 MB/s eta 0:00:01\r\u001b[K     |██████████████████████▉         | 450 kB 5.2 MB/s eta 0:00:01\r\u001b[K     |███████████████████████▍        | 460 kB 5.2 MB/s eta 0:00:01\r\u001b[K     |████████████████████████        | 471 kB 5.2 MB/s eta 0:00:01\r\u001b[K     |████████████████████████▍       | 481 kB 5.2 MB/s eta 0:00:01\r\u001b[K     |█████████████████████████       | 491 kB 5.2 MB/s eta 0:00:01\r\u001b[K     |█████████████████████████▌      | 501 kB 5.2 MB/s eta 0:00:01\r\u001b[K     |██████████████████████████      | 512 kB 5.2 MB/s eta 0:00:01\r\u001b[K     |██████████████████████████▌     | 522 kB 5.2 MB/s eta 0:00:01\r\u001b[K     |███████████████████████████     | 532 kB 5.2 MB/s eta 0:00:01\r\u001b[K     |███████████████████████████▋    | 542 kB 5.2 MB/s eta 0:00:01\r\u001b[K     |████████████████████████████    | 552 kB 5.2 MB/s eta 0:00:01\r\u001b[K     |████████████████████████████▋   | 563 kB 5.2 MB/s eta 0:00:01\r\u001b[K     |█████████████████████████████▏  | 573 kB 5.2 MB/s eta 0:00:01\r\u001b[K     |█████████████████████████████▋  | 583 kB 5.2 MB/s eta 0:00:01\r\u001b[K     |██████████████████████████████▏ | 593 kB 5.2 MB/s eta 0:00:01\r\u001b[K     |██████████████████████████████▊ | 604 kB 5.2 MB/s eta 0:00:01\r\u001b[K     |███████████████████████████████▏| 614 kB 5.2 MB/s eta 0:00:01\r\u001b[K     |███████████████████████████████▊| 624 kB 5.2 MB/s eta 0:00:01\r\u001b[K     |████████████████████████████████| 630 kB 5.2 MB/s \n",
            "\u001b[?25h  Building wheel for pyromat (setup.py) ... \u001b[?25l\u001b[?25hdone\n"
          ]
        }
      ],
      "source": [
        "try:\n",
        "  import pyromat as pm\n",
        "except:\n",
        "  !pip install pyromat --quiet\n",
        "  import pyromat as pm\n",
        "\n",
        "import numpy as np\n",
        "\n",
        "import matplotlib.pyplot as plt"
      ]
    },
    {
      "cell_type": "code",
      "source": [
        "mpH2O = pm.get('mp.H2O')\n",
        "pm.config['unit_pressure'] = 'bar'\n",
        "pm.config['unit_temperature'] = 'C'\n",
        "pm.config['unit_energy'] = 'kJ'"
      ],
      "metadata": {
        "id": "DXl41smboh2h"
      },
      "execution_count": 2,
      "outputs": []
    },
    {
      "cell_type": "markdown",
      "source": [
        "### Example 4.3\n",
        "\n",
        "Steam enters a converging–diverging nozzle operating at steady state with $ p_{1} = 40~\\mathrm{bar} $, $ T_{1} = 400~^\\circ \\mathrm{C} $, and a velocity $ V_{1} = 10~\\mathrm{m/s} $.\n",
        "The steam flows through the nozzle with negligible heat transfer and no significant change in potential energy. At the exit,\n",
        "$ p_{2} = 15~\\mathrm{bar} $, and the velocity $ V_{2} = 665~\\mathrm{m/s} $. The mass flow rate is $ 2~\\mathrm{kg/s} $. Determine the exit area of the nozzle, in $ \\mathrm{m^{2}} $."
      ],
      "metadata": {
        "id": "Y9v2xm0PowMR"
      }
    },
    {
      "cell_type": "code",
      "source": [
        "p1 = 40.0\n",
        "T1 = 400.0\n",
        "V1 = 10.0\n",
        "\n",
        "p2 = 15.0\n",
        "V2 = 665.0"
      ],
      "metadata": {
        "id": "tAkU_Lk3qCT-"
      },
      "execution_count": 3,
      "outputs": []
    },
    {
      "cell_type": "code",
      "source": [
        "h1 = mpH2O.h(p = p1, T = T1)[0]"
      ],
      "metadata": {
        "id": "-77LVZf-LWHz"
      },
      "execution_count": 4,
      "outputs": []
    },
    {
      "cell_type": "markdown",
      "source": [
        "$ A_{2} = \\dfrac{\\dot{m} \\, v_{2}}{V_{2}} $"
      ],
      "metadata": {
        "id": "sU_y22IjK5BL"
      }
    },
    {
      "cell_type": "code",
      "source": [
        "h2 = h1 + 0.5 * (V1**2 - V2**2) / 1.0e3\n",
        "T2 = mpH2O.T_h(h = h2)"
      ],
      "metadata": {
        "id": "QHH8DjD_K4pG"
      },
      "execution_count": 5,
      "outputs": []
    },
    {
      "cell_type": "code",
      "source": [
        "v2 = 1 / mpH2O.d(p = p2, T = T2)[0]"
      ],
      "metadata": {
        "id": "DuFJlkCbVk_z"
      },
      "execution_count": 6,
      "outputs": []
    },
    {
      "cell_type": "code",
      "source": [
        "A2 = 2.0 * v2 / V2\n",
        "A2"
      ],
      "metadata": {
        "colab": {
          "base_uri": "https://localhost:8080/"
        },
        "id": "GXM0YMeATOpa",
        "outputId": "90f47fc2-c02a-4aa2-e40c-8c8ec5f97e6c"
      },
      "execution_count": 7,
      "outputs": [
        {
          "output_type": "execute_result",
          "data": {
            "text/plain": [
              "0.0004675862498848736"
            ]
          },
          "metadata": {},
          "execution_count": 7
        }
      ]
    }
  ]
}